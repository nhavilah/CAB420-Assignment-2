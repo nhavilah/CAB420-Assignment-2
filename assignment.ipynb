{
 "metadata": {
  "language_info": {
   "codemirror_mode": {
    "name": "ipython",
    "version": 3
   },
   "file_extension": ".py",
   "mimetype": "text/x-python",
   "name": "python",
   "nbconvert_exporter": "python",
   "pygments_lexer": "ipython3",
   "version": "3.8.5"
  },
  "orig_nbformat": 2,
  "kernelspec": {
   "name": "python385jvsc74a57bd0b3ba2566441a7c06988d0923437866b63cedc61552a5af99d1f4fb67d367b25f",
   "display_name": "Python 3.8.5 64-bit (conda)"
  }
 },
 "nbformat": 4,
 "nbformat_minor": 2,
 "cells": [
  {
   "cell_type": "code",
   "execution_count": 7,
   "metadata": {},
   "outputs": [],
   "source": [
    "import tensorflow as tf\n",
    "import numpy as np\n",
    "import pandas as pd\n",
    "from statsmodels import api as sm\n",
    "from scipy import stats\n",
    "from sklearn.metrics import mean_squared_error\n",
    "import os\n",
    "from sklearn.model_selection import train_test_split\n",
    "\n",
    "from tensorflow import keras\n",
    "from tensorflow.keras import layers\n",
    "from tensorflow.keras import Sequential\n",
    "from tensorflow.keras import activations\n",
    "from tensorflow.keras.preprocessing.image import ImageDataGenerator\n",
    "from tensorflow.keras.utils import to_categorical\n",
    "from tensorboard import notebook\n",
    "\n",
    "from sklearn.metrics import confusion_matrix, ConfusionMatrixDisplay\n",
    "import matplotlib.pyplot as plt\n",
    "import sklearn\n",
    "import scipy.io\n",
    "import numpy\n",
    "import cv2\n",
    "\n",
    "from sklearn.svm import SVC,NuSVC\n",
    "from sklearn.model_selection import GridSearchCV"
   ]
  },
  {
   "cell_type": "code",
   "execution_count": 2,
   "metadata": {
    "tags": []
   },
   "outputs": [
    {
     "output_type": "stream",
     "name": "stdout",
     "text": [
      "(30607, 140, 54)\n"
     ]
    }
   ],
   "source": [
    "root_dir = os.path.abspath(os.getcwd())+\"/256_ObjectCategories/\"\n",
    "#add the arrays that we can use for training and testing\n",
    "main_x = []\n",
    "main_y = []\n",
    "for subdir, dirs, files in os.walk(root_dir):\n",
    "    for dir in dirs:\n",
    "        current_dir = os.path.join(root_dir) + dir\n",
    "        after = current_dir.split(\".\",1)[1]\n",
    "        for file in os.listdir(current_dir):\n",
    "            filename = os.fsdecode(file)\n",
    "            if filename.endswith(\".jpg\"):\n",
    "                current_file = cv2.imread(os.path.join(current_dir,filename),0)\n",
    "                current_file = cv2.resize(current_file, dsize=(54, 140), interpolation=cv2.INTER_CUBIC)\n",
    "                main_x.append(current_file)\n",
    "                main_y.append(after)\n",
    "                continue\n",
    "            else:\n",
    "                continue\n",
    "    break\n",
    "images_x = np.array(main_x)\n",
    "images_y = np.array(main_y)\n",
    "print(np.shape(images_x))"
   ]
  },
  {
   "cell_type": "code",
   "execution_count": 6,
   "metadata": {},
   "outputs": [
    {
     "output_type": "stream",
     "name": "stdout",
     "text": [
      "19588\n6122\n4897\n"
     ]
    }
   ],
   "source": [
    "temp_x_train, x_test, temp_y_train, y_test = train_test_split(images_x,images_y,test_size=0.2, random_state=42)\n",
    "x_train, x_val, y_train, y_val = train_test_split(temp_x_train,temp_y_train,test_size=0.2,random_state=42)\n",
    "print(len(x_train))\n",
    "print(len(x_test))\n",
    "print(len(x_val))"
   ]
  },
  {
   "cell_type": "code",
   "execution_count": null,
   "metadata": {},
   "outputs": [],
   "source": [
    "#setup the SVM\n",
    "#grid search cross validation has already been imported ready for hyperparameter tuning\n",
    "svm = SVC(class_weight='balanced')\n",
    "#add some stuff for some shitty hyperparameter tuning here. You guys figure out the smarter way to do it. I belive the smarter way is using the range functionality to narrow down the range of values but you will need to investigate\n",
    "param_grid = [\n",
    "    {'C':[0.1,1,10,100],'kernel':['linear']},\n",
    "    {'C':[0.1,1,10,100],'gamma':[0.1,0.01,0.001],'kernel':['rbf']},\n",
    "    {'C':[0.1,1,10,100],'degree':[3,4,5],'kernel':['poly']},\n",
    "]\n",
    "grid_search = GridSearchCV(svm, param_grid)\n",
    "grid_search.fit(x_train,y_train)\n",
    "grid_search.cv_results_\n",
    "best_system = np.argmin(grid_search.cv_results_['rank_test_score'])\n",
    "params = grid_search.cv_results_['params'][best_system]\n",
    "print(params)\n",
    "svm = SVC().set_params(**params)\n",
    "svm.fit(x_train,y_train)"
   ]
  },
  {
   "cell_type": "code",
   "execution_count": 8,
   "metadata": {},
   "outputs": [],
   "source": [
    "#build a DCNN real quick\n",
    "num_epochs = 50\n",
    "\n",
    "def build_model(num_classes,output_activation=None):\n",
    "    inputs = keras.Input(shape=(54,140),name='img')\n",
    "\n",
    "    x = layers.Conv2D(filters=8, kernel_size=(3,3),padding='same',activation='relu')(inputs)\n",
    "    x = layers.Conv2D(filters=8,kernel_size=(3,3),padding='same',activation=None)(x)\n",
    "\n",
    "    x = layers.BatchNormalization()(x)\n",
    "    x = layers.Activation('relu')(x)\n",
    "\n",
    "    x = layers.SpatialDropout2D(0.2)(x)\n",
    "\n",
    "    x = layers.MaxPool2D(pool_size=(2,2))(x)\n",
    "\n",
    "    x = layers.Conv2D(filters=8, kernel_size=(3,3),padding='same',activation='relu')(x)\n",
    "    x = layers.Conv2D(filters=8,kernel_size=(3,3),padding='same',activation=None)(x)\n",
    "\n",
    "    x = layers.BatchNormalization()(x)\n",
    "    x = layers.Activation('relu')(x)\n",
    "\n",
    "    x = layers.SpatialDropout2D(0.2)(x)\n",
    "\n",
    "    x = layers.MaxPool2D(pool_size=(2,2))(x)\n",
    "\n",
    "    x = layers.Conv2D(filters=8, kernel_size=(3,3),padding='same',activation='relu')(x)\n",
    "    x = layers.Conv2D(filters=8,kernel_size=(3,3),padding='same',activation=None)(x)\n",
    "\n",
    "    x = layers.BatchNormalization()(x)\n",
    "    x = layers.Activation('relu')(x)\n",
    "\n",
    "    x = layers.SpatialDropout2D(0.2)(x)\n",
    "\n",
    "    x = layers.Flatten()(x)\n",
    "\n",
    "    x = layers.Dense(256,activation='relu')(x)\n",
    "    x = layers.Dropout(0.5)(x)\n",
    "    x = layers.Dense(64,activation='relu')(x)\n",
    "    outputs = layers.Dense(num_classes,activation=output_activation)(x)\n",
    "\n",
    "    model_cnn = keras.Model(inputs=inputs, outputs=outputs, name='CNN')\n",
    "\n",
    "    return model_cnn\n",
    "\n",
    "model_cnn = build_model(256)\n",
    "model_cnn.summary()"
   ]
  },
  {
   "cell_type": "code",
   "execution_count": null,
   "metadata": {},
   "outputs": [],
   "source": [
    "model_cnn.compile(loss=keras.losses.SparseCategoricalCrossentropy(from_logits=True),\n",
    "optimizer=keras.optimizers.Adam(),\n",
    "metrics=['accuracy'])\n",
    "history = model_cnn.fit(x_train,y_train,\n",
    "batch_size=128,\n",
    "epochs=num_epochs,\n",
    "validation_data=(x_test,y_test))"
   ]
  }
 ]
}